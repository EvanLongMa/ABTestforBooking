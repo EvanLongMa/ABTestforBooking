{
 "cells": [
  {
   "cell_type": "code",
   "execution_count": 1,
   "metadata": {},
   "outputs": [],
   "source": [
    "import pandas as pd\n",
    "import math\n",
    "import numpy as np\n",
    "import scipy\n",
    "import scipy.stats as st"
   ]
  },
  {
   "cell_type": "code",
   "execution_count": 2,
   "metadata": {},
   "outputs": [],
   "source": [
    "booking = pd.read_csv('AB_test_data.csv')"
   ]
  },
  {
   "cell_type": "markdown",
   "metadata": {},
   "source": [
    "## 1. Conduct an A/B test to determine whether Alternative B improved conversion rates (site users book the property) over alternative A."
   ]
  },
  {
   "cell_type": "code",
   "execution_count": 3,
   "metadata": {},
   "outputs": [
    {
     "data": {
      "text/html": [
       "<div>\n",
       "<style scoped>\n",
       "    .dataframe tbody tr th:only-of-type {\n",
       "        vertical-align: middle;\n",
       "    }\n",
       "\n",
       "    .dataframe tbody tr th {\n",
       "        vertical-align: top;\n",
       "    }\n",
       "\n",
       "    .dataframe thead th {\n",
       "        text-align: right;\n",
       "    }\n",
       "</style>\n",
       "<table border=\"1\" class=\"dataframe\">\n",
       "  <thead>\n",
       "    <tr style=\"text-align: right;\">\n",
       "      <th></th>\n",
       "      <th>purchase_TF</th>\n",
       "      <th>Variant</th>\n",
       "      <th>date</th>\n",
       "      <th>id</th>\n",
       "    </tr>\n",
       "  </thead>\n",
       "  <tbody>\n",
       "    <tr>\n",
       "      <th>0</th>\n",
       "      <td>False</td>\n",
       "      <td>A</td>\n",
       "      <td>2019-11-08</td>\n",
       "      <td>0x25b44a</td>\n",
       "    </tr>\n",
       "    <tr>\n",
       "      <th>1</th>\n",
       "      <td>False</td>\n",
       "      <td>B</td>\n",
       "      <td>2020-08-27</td>\n",
       "      <td>0x46271e</td>\n",
       "    </tr>\n",
       "    <tr>\n",
       "      <th>2</th>\n",
       "      <td>False</td>\n",
       "      <td>A</td>\n",
       "      <td>2020-06-11</td>\n",
       "      <td>0x80b8f1</td>\n",
       "    </tr>\n",
       "    <tr>\n",
       "      <th>3</th>\n",
       "      <td>False</td>\n",
       "      <td>B</td>\n",
       "      <td>2020-08-22</td>\n",
       "      <td>0x8d736d</td>\n",
       "    </tr>\n",
       "    <tr>\n",
       "      <th>4</th>\n",
       "      <td>False</td>\n",
       "      <td>A</td>\n",
       "      <td>2020-08-05</td>\n",
       "      <td>0x96c9c8</td>\n",
       "    </tr>\n",
       "  </tbody>\n",
       "</table>\n",
       "</div>"
      ],
      "text/plain": [
       "   purchase_TF Variant        date        id\n",
       "0        False       A  2019-11-08  0x25b44a\n",
       "1        False       B  2020-08-27  0x46271e\n",
       "2        False       A  2020-06-11  0x80b8f1\n",
       "3        False       B  2020-08-22  0x8d736d\n",
       "4        False       A  2020-08-05  0x96c9c8"
      ]
     },
     "execution_count": 3,
     "metadata": {},
     "output_type": "execute_result"
    }
   ],
   "source": [
    "booking.head()"
   ]
  },
  {
   "cell_type": "code",
   "execution_count": 4,
   "metadata": {},
   "outputs": [],
   "source": [
    "booking_A = booking[booking['Variant'] == \"A\"]\n",
    "booking_B = booking[booking['Variant'] == \"B\"]"
   ]
  },
  {
   "cell_type": "code",
   "execution_count": 5,
   "metadata": {},
   "outputs": [
    {
     "data": {
      "text/html": [
       "<div>\n",
       "<style scoped>\n",
       "    .dataframe tbody tr th:only-of-type {\n",
       "        vertical-align: middle;\n",
       "    }\n",
       "\n",
       "    .dataframe tbody tr th {\n",
       "        vertical-align: top;\n",
       "    }\n",
       "\n",
       "    .dataframe thead th {\n",
       "        text-align: right;\n",
       "    }\n",
       "</style>\n",
       "<table border=\"1\" class=\"dataframe\">\n",
       "  <thead>\n",
       "    <tr style=\"text-align: right;\">\n",
       "      <th></th>\n",
       "      <th>purchase_TF</th>\n",
       "      <th>Variant</th>\n",
       "      <th>date</th>\n",
       "      <th>id</th>\n",
       "    </tr>\n",
       "  </thead>\n",
       "  <tbody>\n",
       "    <tr>\n",
       "      <th>1</th>\n",
       "      <td>False</td>\n",
       "      <td>B</td>\n",
       "      <td>2020-08-27</td>\n",
       "      <td>0x46271e</td>\n",
       "    </tr>\n",
       "    <tr>\n",
       "      <th>3</th>\n",
       "      <td>False</td>\n",
       "      <td>B</td>\n",
       "      <td>2020-08-22</td>\n",
       "      <td>0x8d736d</td>\n",
       "    </tr>\n",
       "    <tr>\n",
       "      <th>59</th>\n",
       "      <td>False</td>\n",
       "      <td>B</td>\n",
       "      <td>2020-08-19</td>\n",
       "      <td>0x3ff83f</td>\n",
       "    </tr>\n",
       "    <tr>\n",
       "      <th>74</th>\n",
       "      <td>False</td>\n",
       "      <td>B</td>\n",
       "      <td>2020-08-10</td>\n",
       "      <td>0x138d19</td>\n",
       "    </tr>\n",
       "    <tr>\n",
       "      <th>103</th>\n",
       "      <td>False</td>\n",
       "      <td>B</td>\n",
       "      <td>2020-08-04</td>\n",
       "      <td>0x966e6a</td>\n",
       "    </tr>\n",
       "    <tr>\n",
       "      <th>...</th>\n",
       "      <td>...</td>\n",
       "      <td>...</td>\n",
       "      <td>...</td>\n",
       "      <td>...</td>\n",
       "    </tr>\n",
       "    <tr>\n",
       "      <th>129805</th>\n",
       "      <td>False</td>\n",
       "      <td>B</td>\n",
       "      <td>2020-08-27</td>\n",
       "      <td>0x7d95d0</td>\n",
       "    </tr>\n",
       "    <tr>\n",
       "      <th>129827</th>\n",
       "      <td>False</td>\n",
       "      <td>B</td>\n",
       "      <td>2020-08-10</td>\n",
       "      <td>0x38a6e8</td>\n",
       "    </tr>\n",
       "    <tr>\n",
       "      <th>129879</th>\n",
       "      <td>False</td>\n",
       "      <td>B</td>\n",
       "      <td>2020-08-30</td>\n",
       "      <td>0x6a711a</td>\n",
       "    </tr>\n",
       "    <tr>\n",
       "      <th>129910</th>\n",
       "      <td>False</td>\n",
       "      <td>B</td>\n",
       "      <td>2020-08-13</td>\n",
       "      <td>0x13175a</td>\n",
       "    </tr>\n",
       "    <tr>\n",
       "      <th>129960</th>\n",
       "      <td>False</td>\n",
       "      <td>B</td>\n",
       "      <td>2020-08-02</td>\n",
       "      <td>0x8d0674</td>\n",
       "    </tr>\n",
       "  </tbody>\n",
       "</table>\n",
       "<p>5000 rows × 4 columns</p>\n",
       "</div>"
      ],
      "text/plain": [
       "        purchase_TF Variant        date        id\n",
       "1             False       B  2020-08-27  0x46271e\n",
       "3             False       B  2020-08-22  0x8d736d\n",
       "59            False       B  2020-08-19  0x3ff83f\n",
       "74            False       B  2020-08-10  0x138d19\n",
       "103           False       B  2020-08-04  0x966e6a\n",
       "...             ...     ...         ...       ...\n",
       "129805        False       B  2020-08-27  0x7d95d0\n",
       "129827        False       B  2020-08-10  0x38a6e8\n",
       "129879        False       B  2020-08-30  0x6a711a\n",
       "129910        False       B  2020-08-13  0x13175a\n",
       "129960        False       B  2020-08-02  0x8d0674\n",
       "\n",
       "[5000 rows x 4 columns]"
      ]
     },
     "execution_count": 5,
     "metadata": {},
     "output_type": "execute_result"
    }
   ],
   "source": [
    "booking_B"
   ]
  },
  {
   "cell_type": "code",
   "execution_count": 6,
   "metadata": {},
   "outputs": [
    {
     "name": "stdout",
     "output_type": "stream",
     "text": [
      "0.149616\n"
     ]
    }
   ],
   "source": [
    "#calculate 'True' percentage in A group: p = 0.149616\n",
    "\n",
    "p = booking_A[(booking_A['purchase_TF'] == True)].id.count()/booking_A.id.count()\n",
    "print(p)"
   ]
  },
  {
   "cell_type": "code",
   "execution_count": 7,
   "metadata": {},
   "outputs": [
    {
     "name": "stdout",
     "output_type": "stream",
     "text": [
      "0.1766\n"
     ]
    }
   ],
   "source": [
    "#calculate 'True' percentage in B group: p_head = 0.1766\n",
    "\n",
    "p_head = booking_B[(booking_B['purchase_TF'] == True)].id.count()/booking_B.id.count()\n",
    "print(p_head)"
   ]
  },
  {
   "cell_type": "code",
   "execution_count": 8,
   "metadata": {},
   "outputs": [],
   "source": [
    "#null hypo: p head = p\n",
    "#alternative hypo: p head > p"
   ]
  },
  {
   "cell_type": "code",
   "execution_count": 9,
   "metadata": {},
   "outputs": [
    {
     "data": {
      "text/plain": [
       "5.349273094732516"
      ]
     },
     "execution_count": 9,
     "metadata": {},
     "output_type": "execute_result"
    }
   ],
   "source": [
    "#Calculate z-score = 5.349273094732516\n",
    "\n",
    "n = booking_B.shape[0]\n",
    "\n",
    "numerator = p_head-p\n",
    "denominator = math.sqrt((p*(1-p))/n)\n",
    "\n",
    "numerator / denominator"
   ]
  },
  {
   "cell_type": "code",
   "execution_count": 10,
   "metadata": {},
   "outputs": [
    {
     "data": {
      "text/plain": [
       "1.6448536269514722"
      ]
     },
     "execution_count": 10,
     "metadata": {},
     "output_type": "execute_result"
    }
   ],
   "source": [
    "# calculate z critical value = 1.6448536269514722\n",
    "\n",
    "scipy.stats.norm.ppf(1-.05)\n",
    "\n",
    "\n",
    "#z-score > z critical value, reject null hypothesis.\n",
    "#There is enough evidence (alpha = 5%) to support the claim that B improves conversion rates."
   ]
  },
  {
   "cell_type": "markdown",
   "metadata": {},
   "source": [
    "## 2. Calculate the optimal sample size for a 95% confidence rate and test with 80% power. Conduct the test 10 times using samples of the optimal size. Report results."
   ]
  },
  {
   "cell_type": "code",
   "execution_count": 11,
   "metadata": {},
   "outputs": [],
   "source": [
    "#confidence rate = 95% --> probability of type I error: 5%\n",
    "#power = 80% --> probability of type II error: 20%"
   ]
  },
  {
   "cell_type": "code",
   "execution_count": 12,
   "metadata": {},
   "outputs": [
    {
     "name": "stdout",
     "output_type": "stream",
     "text": [
      "The optimal size should be: 2941\n"
     ]
    }
   ],
   "source": [
    "#delta: difference between the two means. We use 1%.\n",
    "\n",
    "p_bar = (p + p_head)/2\n",
    "\n",
    "#difference of conversion rate \n",
    "optimal_sample = (st.norm.ppf(0.975)*math.sqrt(2*p_bar*(1-p_bar)) + st.norm.ppf(0.8)*math.sqrt(p*(1-p)+p_head*(1-p_head)))**2 /((p_head-p)**2)\n",
    "optimal_sample = int(optimal_sample)\n",
    "\n",
    "print(\"The optimal size should be:\", optimal_sample)\n"
   ]
  },
  {
   "cell_type": "code",
   "execution_count": 13,
   "metadata": {},
   "outputs": [],
   "source": [
    "test1a = booking_A.sample(n = optimal_sample) \n",
    "test2a = booking_A.sample(n = optimal_sample) \n",
    "test3a = booking_A.sample(n = optimal_sample) \n",
    "test4a = booking_A.sample(n = optimal_sample)\n",
    "test5a = booking_A.sample(n = optimal_sample)\n",
    "test6a = booking_A.sample(n = optimal_sample)\n",
    "test7a = booking_A.sample(n = optimal_sample)\n",
    "test8a = booking_A.sample(n = optimal_sample)\n",
    "test9a = booking_A.sample(n = optimal_sample)\n",
    "test10a = booking_A.sample(n = optimal_sample)\n",
    "\n",
    "test1b = booking_B.sample(n = optimal_sample) \n",
    "test2b = booking_B.sample(n = optimal_sample) \n",
    "test3b = booking_B.sample(n = optimal_sample) \n",
    "test4b = booking_B.sample(n = optimal_sample)\n",
    "test5b = booking_B.sample(n = optimal_sample)\n",
    "test6b = booking_B.sample(n = optimal_sample)\n",
    "test7b = booking_B.sample(n = optimal_sample)\n",
    "test8b = booking_B.sample(n = optimal_sample)\n",
    "test9b = booking_B.sample(n = optimal_sample)\n",
    "test10b = booking_B.sample(n = optimal_sample)\n",
    "\n",
    "a_sample_list = [test1a, test2a, test3a, test4a, test5a, test6a, test7a, test8a, test9a, test10a]\n",
    "b_sample_list = [test1b, test2b, test3b, test4b, test5b, test6b, test7b, test8b, test9b, test10b]"
   ]
  },
  {
   "cell_type": "code",
   "execution_count": 14,
   "metadata": {},
   "outputs": [
    {
     "data": {
      "text/html": [
       "<div>\n",
       "<style scoped>\n",
       "    .dataframe tbody tr th:only-of-type {\n",
       "        vertical-align: middle;\n",
       "    }\n",
       "\n",
       "    .dataframe tbody tr th {\n",
       "        vertical-align: top;\n",
       "    }\n",
       "\n",
       "    .dataframe thead th {\n",
       "        text-align: right;\n",
       "    }\n",
       "</style>\n",
       "<table border=\"1\" class=\"dataframe\">\n",
       "  <thead>\n",
       "    <tr style=\"text-align: right;\">\n",
       "      <th></th>\n",
       "      <th>purchase_TF</th>\n",
       "      <th>Variant</th>\n",
       "      <th>date</th>\n",
       "      <th>id</th>\n",
       "    </tr>\n",
       "  </thead>\n",
       "  <tbody>\n",
       "    <tr>\n",
       "      <th>114113</th>\n",
       "      <td>False</td>\n",
       "      <td>A</td>\n",
       "      <td>2020-06-13</td>\n",
       "      <td>0x7d03c2</td>\n",
       "    </tr>\n",
       "    <tr>\n",
       "      <th>35995</th>\n",
       "      <td>True</td>\n",
       "      <td>A</td>\n",
       "      <td>2020-03-09</td>\n",
       "      <td>0x57be29</td>\n",
       "    </tr>\n",
       "    <tr>\n",
       "      <th>88795</th>\n",
       "      <td>True</td>\n",
       "      <td>A</td>\n",
       "      <td>2020-02-22</td>\n",
       "      <td>0x337198</td>\n",
       "    </tr>\n",
       "    <tr>\n",
       "      <th>108132</th>\n",
       "      <td>False</td>\n",
       "      <td>A</td>\n",
       "      <td>2020-01-24</td>\n",
       "      <td>0x2c6370</td>\n",
       "    </tr>\n",
       "    <tr>\n",
       "      <th>68647</th>\n",
       "      <td>False</td>\n",
       "      <td>A</td>\n",
       "      <td>2020-05-27</td>\n",
       "      <td>0x1b05ff</td>\n",
       "    </tr>\n",
       "    <tr>\n",
       "      <th>...</th>\n",
       "      <td>...</td>\n",
       "      <td>...</td>\n",
       "      <td>...</td>\n",
       "      <td>...</td>\n",
       "    </tr>\n",
       "    <tr>\n",
       "      <th>120578</th>\n",
       "      <td>False</td>\n",
       "      <td>A</td>\n",
       "      <td>2020-01-08</td>\n",
       "      <td>0x47ae2c</td>\n",
       "    </tr>\n",
       "    <tr>\n",
       "      <th>48686</th>\n",
       "      <td>False</td>\n",
       "      <td>A</td>\n",
       "      <td>2019-12-31</td>\n",
       "      <td>0x4561c4</td>\n",
       "    </tr>\n",
       "    <tr>\n",
       "      <th>40935</th>\n",
       "      <td>False</td>\n",
       "      <td>A</td>\n",
       "      <td>2019-09-15</td>\n",
       "      <td>0x781411</td>\n",
       "    </tr>\n",
       "    <tr>\n",
       "      <th>30658</th>\n",
       "      <td>False</td>\n",
       "      <td>A</td>\n",
       "      <td>2019-08-28</td>\n",
       "      <td>0x2c5574</td>\n",
       "    </tr>\n",
       "    <tr>\n",
       "      <th>38313</th>\n",
       "      <td>False</td>\n",
       "      <td>A</td>\n",
       "      <td>2019-08-14</td>\n",
       "      <td>0x6e825d</td>\n",
       "    </tr>\n",
       "  </tbody>\n",
       "</table>\n",
       "<p>2941 rows × 4 columns</p>\n",
       "</div>"
      ],
      "text/plain": [
       "        purchase_TF Variant        date        id\n",
       "114113        False       A  2020-06-13  0x7d03c2\n",
       "35995          True       A  2020-03-09  0x57be29\n",
       "88795          True       A  2020-02-22  0x337198\n",
       "108132        False       A  2020-01-24  0x2c6370\n",
       "68647         False       A  2020-05-27  0x1b05ff\n",
       "...             ...     ...         ...       ...\n",
       "120578        False       A  2020-01-08  0x47ae2c\n",
       "48686         False       A  2019-12-31  0x4561c4\n",
       "40935         False       A  2019-09-15  0x781411\n",
       "30658         False       A  2019-08-28  0x2c5574\n",
       "38313         False       A  2019-08-14  0x6e825d\n",
       "\n",
       "[2941 rows x 4 columns]"
      ]
     },
     "execution_count": 14,
     "metadata": {},
     "output_type": "execute_result"
    }
   ],
   "source": [
    "a_sample_list[5]"
   ]
  },
  {
   "cell_type": "code",
   "execution_count": 15,
   "metadata": {},
   "outputs": [],
   "source": [
    "a_mean_list = []\n",
    "b_mean_list = []\n",
    "\n",
    "for i in a_sample_list:\n",
    "    a_mean_list.append(float(np.mean(i[\"purchase_TF\"])))\n",
    "    \n",
    "for i in b_sample_list:\n",
    "    b_mean_list.append(float(np.mean(i[\"purchase_TF\"])))\n",
    "\n",
    "mean_diff_list = []\n",
    "for i in range(10):\n",
    "    mean_diff_list.append(b_mean_list[i] - a_mean_list[i])"
   ]
  },
  {
   "cell_type": "code",
   "execution_count": 16,
   "metadata": {},
   "outputs": [
    {
     "data": {
      "text/plain": [
       "[0.020401224073444413,\n",
       " 0.01700102006120366,\n",
       " 0.017341040462427737,\n",
       " 0.022441346480788826,\n",
       " 0.027201632097925865,\n",
       " 0.03230193811628698,\n",
       " 0.03060183611016662,\n",
       " 0.01394083645018701,\n",
       " 0.026521591295477737,\n",
       " 0.021421285277116647]"
      ]
     },
     "execution_count": 16,
     "metadata": {},
     "output_type": "execute_result"
    }
   ],
   "source": [
    "mean_diff_list"
   ]
  },
  {
   "cell_type": "code",
   "execution_count": 17,
   "metadata": {},
   "outputs": [],
   "source": [
    "sigma_list = []\n",
    "\n",
    "for i in range(10):\n",
    "    p = a_mean_list[i]\n",
    "    sigma_list.append(math.sqrt((p*(1-p))/n))"
   ]
  },
  {
   "cell_type": "code",
   "execution_count": 18,
   "metadata": {
    "scrolled": false
   },
   "outputs": [
    {
     "data": {
      "text/plain": [
       "[0.005123348154191923,\n",
       " 0.005109586931587035,\n",
       " 0.0051551578387677675,\n",
       " 0.005001444675672144,\n",
       " 0.005049045360393573,\n",
       " 0.005104982555093356,\n",
       " 0.0050110379014435885,\n",
       " 0.005141576198164069,\n",
       " 0.00504432613294714,\n",
       " 0.005146111887704192]"
      ]
     },
     "execution_count": 18,
     "metadata": {},
     "output_type": "execute_result"
    }
   ],
   "source": [
    "sigma_list"
   ]
  },
  {
   "cell_type": "code",
   "execution_count": 19,
   "metadata": {},
   "outputs": [],
   "source": [
    "z_score_list = []\n",
    "for i in range(10):\n",
    "    z_score_list.append(mean_diff_list[i]/sigma_list[i])"
   ]
  },
  {
   "cell_type": "code",
   "execution_count": 20,
   "metadata": {},
   "outputs": [
    {
     "data": {
      "text/plain": [
       "[3.9820100956348505,\n",
       " 3.327278758309167,\n",
       " 3.36382337937741,\n",
       " 4.4869728520535785,\n",
       " 5.387480237611789,\n",
       " 6.327531537607041,\n",
       " 6.10688578135695,\n",
       " 2.7113935324278464,\n",
       " 5.257707490848245,\n",
       " 4.162615532767441]"
      ]
     },
     "execution_count": 20,
     "metadata": {},
     "output_type": "execute_result"
    }
   ],
   "source": [
    "z_score_list"
   ]
  },
  {
   "cell_type": "code",
   "execution_count": 21,
   "metadata": {},
   "outputs": [],
   "source": [
    "significance_list = []\n",
    "for i in z_score_list:\n",
    "    if i > scipy.stats.norm.ppf(1-.05):\n",
    "        significance_list.append(True)\n",
    "    else:\n",
    "        significance_list.append(False)"
   ]
  },
  {
   "cell_type": "code",
   "execution_count": 22,
   "metadata": {},
   "outputs": [
    {
     "data": {
      "text/plain": [
       "[True, True, True, True, True, True, True, True, True, True]"
      ]
     },
     "execution_count": 22,
     "metadata": {},
     "output_type": "execute_result"
    }
   ],
   "source": [
    "significance_list"
   ]
  },
  {
   "cell_type": "code",
   "execution_count": 23,
   "metadata": {},
   "outputs": [
    {
     "name": "stdout",
     "output_type": "stream",
     "text": [
      "WOW!!significant improvement!\n",
      "WOW!!significant improvement!\n",
      "WOW!!significant improvement!\n",
      "WOW!!significant improvement!\n",
      "WOW!!significant improvement!\n",
      "WOW!!significant improvement!\n",
      "WOW!!significant improvement!\n",
      "WOW!!significant improvement!\n",
      "WOW!!significant improvement!\n",
      "WOW!!significant improvement!\n"
     ]
    }
   ],
   "source": [
    "for i in significance_list:\n",
    "    if i == True:\n",
    "        print('WOW!!significant improvement!')\n",
    "    else:\n",
    "        print('oops')"
   ]
  },
  {
   "cell_type": "markdown",
   "metadata": {},
   "source": [
    "## 3. Conduct a sequential test for the 10 samples. For any of the samples, were you able to stop the test prior to using the full sample? What was the average number of iterations required to stop the test?"
   ]
  },
  {
   "cell_type": "code",
   "execution_count": 24,
   "metadata": {},
   "outputs": [
    {
     "name": "stdout",
     "output_type": "stream",
     "text": [
      "0\n",
      "1\n",
      "2\n",
      "3\n",
      "4\n",
      "5\n",
      "6\n",
      "7\n",
      "8\n",
      "9\n"
     ]
    }
   ],
   "source": [
    "upper_bound = np.log(1/(1-0.95))\n",
    "lower_bound = np.log(1-0.8)\n",
    "rounds_ran = []\n",
    "reason = []\n",
    "\n",
    "for i in range(10):\n",
    "    print(i)\n",
    "    log_gamma = 0\n",
    "    rounds = 0\n",
    "    \n",
    "    while (log_gamma > lower_bound) & (log_gamma < upper_bound):\n",
    "        if rounds < optimal_sample:\n",
    "            if b_sample_list[i]['purchase_TF'].values[rounds]:\n",
    "                log_gamma = log_gamma + math.log(p_head / p)\n",
    "            else:\n",
    "                log_gamma = log_gamma + math.log((1-p_head) / (1-p))\n",
    "            rounds += 1\n",
    "        else:\n",
    "            reason.append('Did not stop early')\n",
    "            break\n",
    "\n",
    "    rounds_ran.append(rounds)\n",
    "    if log_gamma < lower_bound:\n",
    "        reason.append('Lower bound')\n",
    "    elif log_gamma > upper_bound:\n",
    "        reason.append('Higher bound')"
   ]
  },
  {
   "cell_type": "code",
   "execution_count": 25,
   "metadata": {},
   "outputs": [
    {
     "data": {
      "text/plain": [
       "[2622, 2941, 1353, 1052, 705, 554, 1233, 542, 1587, 195]"
      ]
     },
     "execution_count": 25,
     "metadata": {},
     "output_type": "execute_result"
    }
   ],
   "source": [
    "rounds_ran"
   ]
  },
  {
   "cell_type": "code",
   "execution_count": 26,
   "metadata": {},
   "outputs": [
    {
     "data": {
      "text/plain": [
       "['Higher bound',\n",
       " 'Did not stop early',\n",
       " 'Higher bound',\n",
       " 'Higher bound',\n",
       " 'Lower bound',\n",
       " 'Higher bound',\n",
       " 'Higher bound',\n",
       " 'Higher bound',\n",
       " 'Higher bound',\n",
       " 'Lower bound']"
      ]
     },
     "execution_count": 26,
     "metadata": {},
     "output_type": "execute_result"
    }
   ],
   "source": [
    "reason"
   ]
  },
  {
   "cell_type": "code",
   "execution_count": 35,
   "metadata": {},
   "outputs": [
    {
     "data": {
      "text/plain": [
       "1278.4"
      ]
     },
     "execution_count": 35,
     "metadata": {},
     "output_type": "execute_result"
    }
   ],
   "source": [
    "from statistics import mean\n",
    "mean(rounds_ran)"
   ]
  },
  {
   "cell_type": "code",
   "execution_count": 37,
   "metadata": {},
   "outputs": [
    {
     "data": {
      "text/plain": [
       "1093.6666666666667"
      ]
     },
     "execution_count": 37,
     "metadata": {},
     "output_type": "execute_result"
    }
   ],
   "source": [
    "#(mean(rounds_ran[0:1]+rounds_ran[2:]))"
   ]
  },
  {
   "cell_type": "code",
   "execution_count": 29,
   "metadata": {},
   "outputs": [],
   "source": [
    "#We're able to stop the test 9 out of 10 times, with an average of stopping at ~1278 rounds/iterations.\n",
    "#Or if not including the one time not stopping early and going to 2317 rounds, then an average of ~1094 rounds/iterations\n",
    "\n",
    "#Note, that this varies greatly when rerunning with different seeds/randomizations.\n",
    "#This run is a pretty balanced one in terms of having just one non-stopping early,\n",
    "#and 2 lower bounds as well as 7 upper bound reasons for stopping"
   ]
  },
  {
   "cell_type": "code",
   "execution_count": null,
   "metadata": {},
   "outputs": [],
   "source": []
  },
  {
   "cell_type": "code",
   "execution_count": 30,
   "metadata": {},
   "outputs": [
    {
     "name": "stdout",
     "output_type": "stream",
     "text": [
      "2.99573227355399\n",
      "-1.6094379124341005\n"
     ]
    }
   ],
   "source": [
    "print(upper_bound)\n",
    "print(lower_bound)"
   ]
  },
  {
   "cell_type": "code",
   "execution_count": null,
   "metadata": {},
   "outputs": [],
   "source": []
  }
 ],
 "metadata": {
  "kernelspec": {
   "display_name": "Python 3",
   "language": "python",
   "name": "python3"
  },
  "language_info": {
   "codemirror_mode": {
    "name": "ipython",
    "version": 3
   },
   "file_extension": ".py",
   "mimetype": "text/x-python",
   "name": "python",
   "nbconvert_exporter": "python",
   "pygments_lexer": "ipython3",
   "version": "3.7.6"
  }
 },
 "nbformat": 4,
 "nbformat_minor": 4
}
