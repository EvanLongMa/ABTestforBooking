{
 "cells": [
  {
   "cell_type": "code",
   "execution_count": 1,
   "metadata": {},
   "outputs": [],
   "source": [
    "import pandas as pd\n",
    "import math\n",
    "import numpy as np\n",
    "import scipy\n",
    "import scipy.stats as st"
   ]
  },
  {
   "cell_type": "code",
   "execution_count": 2,
   "metadata": {},
   "outputs": [],
   "source": [
    "booking = pd.read_csv('AB_test_data.csv')"
   ]
  },
  {
   "cell_type": "markdown",
   "metadata": {},
   "source": [
    "## 1. Conduct an A/B test to determine whether Alternative B improved conversion rates (site users book the property) over alternative A."
   ]
  },
  {
   "cell_type": "code",
   "execution_count": 3,
   "metadata": {},
   "outputs": [
    {
     "data": {
      "text/html": [
       "<div>\n",
       "<style scoped>\n",
       "    .dataframe tbody tr th:only-of-type {\n",
       "        vertical-align: middle;\n",
       "    }\n",
       "\n",
       "    .dataframe tbody tr th {\n",
       "        vertical-align: top;\n",
       "    }\n",
       "\n",
       "    .dataframe thead th {\n",
       "        text-align: right;\n",
       "    }\n",
       "</style>\n",
       "<table border=\"1\" class=\"dataframe\">\n",
       "  <thead>\n",
       "    <tr style=\"text-align: right;\">\n",
       "      <th></th>\n",
       "      <th>purchase_TF</th>\n",
       "      <th>Variant</th>\n",
       "      <th>date</th>\n",
       "      <th>id</th>\n",
       "    </tr>\n",
       "  </thead>\n",
       "  <tbody>\n",
       "    <tr>\n",
       "      <th>0</th>\n",
       "      <td>False</td>\n",
       "      <td>A</td>\n",
       "      <td>2019-11-08</td>\n",
       "      <td>0x25b44a</td>\n",
       "    </tr>\n",
       "    <tr>\n",
       "      <th>1</th>\n",
       "      <td>False</td>\n",
       "      <td>B</td>\n",
       "      <td>2020-08-27</td>\n",
       "      <td>0x46271e</td>\n",
       "    </tr>\n",
       "    <tr>\n",
       "      <th>2</th>\n",
       "      <td>False</td>\n",
       "      <td>A</td>\n",
       "      <td>2020-06-11</td>\n",
       "      <td>0x80b8f1</td>\n",
       "    </tr>\n",
       "    <tr>\n",
       "      <th>3</th>\n",
       "      <td>False</td>\n",
       "      <td>B</td>\n",
       "      <td>2020-08-22</td>\n",
       "      <td>0x8d736d</td>\n",
       "    </tr>\n",
       "    <tr>\n",
       "      <th>4</th>\n",
       "      <td>False</td>\n",
       "      <td>A</td>\n",
       "      <td>2020-08-05</td>\n",
       "      <td>0x96c9c8</td>\n",
       "    </tr>\n",
       "  </tbody>\n",
       "</table>\n",
       "</div>"
      ],
      "text/plain": [
       "   purchase_TF Variant        date        id\n",
       "0        False       A  2019-11-08  0x25b44a\n",
       "1        False       B  2020-08-27  0x46271e\n",
       "2        False       A  2020-06-11  0x80b8f1\n",
       "3        False       B  2020-08-22  0x8d736d\n",
       "4        False       A  2020-08-05  0x96c9c8"
      ]
     },
     "execution_count": 3,
     "metadata": {},
     "output_type": "execute_result"
    }
   ],
   "source": [
    "booking.head()"
   ]
  },
  {
   "cell_type": "code",
   "execution_count": 4,
   "metadata": {},
   "outputs": [],
   "source": [
    "booking_A = booking[booking['Variant'] == \"A\"]\n",
    "booking_B = booking[booking['Variant'] == \"B\"]"
   ]
  },
  {
   "cell_type": "code",
   "execution_count": 5,
   "metadata": {},
   "outputs": [
    {
     "data": {
      "text/html": [
       "<div>\n",
       "<style scoped>\n",
       "    .dataframe tbody tr th:only-of-type {\n",
       "        vertical-align: middle;\n",
       "    }\n",
       "\n",
       "    .dataframe tbody tr th {\n",
       "        vertical-align: top;\n",
       "    }\n",
       "\n",
       "    .dataframe thead th {\n",
       "        text-align: right;\n",
       "    }\n",
       "</style>\n",
       "<table border=\"1\" class=\"dataframe\">\n",
       "  <thead>\n",
       "    <tr style=\"text-align: right;\">\n",
       "      <th></th>\n",
       "      <th>purchase_TF</th>\n",
       "      <th>Variant</th>\n",
       "      <th>date</th>\n",
       "      <th>id</th>\n",
       "    </tr>\n",
       "  </thead>\n",
       "  <tbody>\n",
       "    <tr>\n",
       "      <th>1</th>\n",
       "      <td>False</td>\n",
       "      <td>B</td>\n",
       "      <td>2020-08-27</td>\n",
       "      <td>0x46271e</td>\n",
       "    </tr>\n",
       "    <tr>\n",
       "      <th>3</th>\n",
       "      <td>False</td>\n",
       "      <td>B</td>\n",
       "      <td>2020-08-22</td>\n",
       "      <td>0x8d736d</td>\n",
       "    </tr>\n",
       "    <tr>\n",
       "      <th>59</th>\n",
       "      <td>False</td>\n",
       "      <td>B</td>\n",
       "      <td>2020-08-19</td>\n",
       "      <td>0x3ff83f</td>\n",
       "    </tr>\n",
       "    <tr>\n",
       "      <th>74</th>\n",
       "      <td>False</td>\n",
       "      <td>B</td>\n",
       "      <td>2020-08-10</td>\n",
       "      <td>0x138d19</td>\n",
       "    </tr>\n",
       "    <tr>\n",
       "      <th>103</th>\n",
       "      <td>False</td>\n",
       "      <td>B</td>\n",
       "      <td>2020-08-04</td>\n",
       "      <td>0x966e6a</td>\n",
       "    </tr>\n",
       "    <tr>\n",
       "      <th>...</th>\n",
       "      <td>...</td>\n",
       "      <td>...</td>\n",
       "      <td>...</td>\n",
       "      <td>...</td>\n",
       "    </tr>\n",
       "    <tr>\n",
       "      <th>129805</th>\n",
       "      <td>False</td>\n",
       "      <td>B</td>\n",
       "      <td>2020-08-27</td>\n",
       "      <td>0x7d95d0</td>\n",
       "    </tr>\n",
       "    <tr>\n",
       "      <th>129827</th>\n",
       "      <td>False</td>\n",
       "      <td>B</td>\n",
       "      <td>2020-08-10</td>\n",
       "      <td>0x38a6e8</td>\n",
       "    </tr>\n",
       "    <tr>\n",
       "      <th>129879</th>\n",
       "      <td>False</td>\n",
       "      <td>B</td>\n",
       "      <td>2020-08-30</td>\n",
       "      <td>0x6a711a</td>\n",
       "    </tr>\n",
       "    <tr>\n",
       "      <th>129910</th>\n",
       "      <td>False</td>\n",
       "      <td>B</td>\n",
       "      <td>2020-08-13</td>\n",
       "      <td>0x13175a</td>\n",
       "    </tr>\n",
       "    <tr>\n",
       "      <th>129960</th>\n",
       "      <td>False</td>\n",
       "      <td>B</td>\n",
       "      <td>2020-08-02</td>\n",
       "      <td>0x8d0674</td>\n",
       "    </tr>\n",
       "  </tbody>\n",
       "</table>\n",
       "<p>5000 rows × 4 columns</p>\n",
       "</div>"
      ],
      "text/plain": [
       "        purchase_TF Variant        date        id\n",
       "1             False       B  2020-08-27  0x46271e\n",
       "3             False       B  2020-08-22  0x8d736d\n",
       "59            False       B  2020-08-19  0x3ff83f\n",
       "74            False       B  2020-08-10  0x138d19\n",
       "103           False       B  2020-08-04  0x966e6a\n",
       "...             ...     ...         ...       ...\n",
       "129805        False       B  2020-08-27  0x7d95d0\n",
       "129827        False       B  2020-08-10  0x38a6e8\n",
       "129879        False       B  2020-08-30  0x6a711a\n",
       "129910        False       B  2020-08-13  0x13175a\n",
       "129960        False       B  2020-08-02  0x8d0674\n",
       "\n",
       "[5000 rows x 4 columns]"
      ]
     },
     "execution_count": 5,
     "metadata": {},
     "output_type": "execute_result"
    }
   ],
   "source": [
    "booking_B"
   ]
  },
  {
   "cell_type": "code",
   "execution_count": 6,
   "metadata": {},
   "outputs": [
    {
     "name": "stdout",
     "output_type": "stream",
     "text": [
      "0.149616\n"
     ]
    }
   ],
   "source": [
    "#calculate 'True' percentage in A group: p = 0.149616\n",
    "\n",
    "p = booking_A[(booking_A['purchase_TF'] == True)].id.count()/booking_A.id.count()\n",
    "print(p)"
   ]
  },
  {
   "cell_type": "code",
   "execution_count": 7,
   "metadata": {},
   "outputs": [
    {
     "name": "stdout",
     "output_type": "stream",
     "text": [
      "0.1766\n"
     ]
    }
   ],
   "source": [
    "#calculate 'True' percentage in B group: p_head = 0.1766\n",
    "\n",
    "p_head = booking_B[(booking_B['purchase_TF'] == True)].id.count()/booking_B.id.count()\n",
    "print(p_head)"
   ]
  },
  {
   "cell_type": "code",
   "execution_count": 8,
   "metadata": {},
   "outputs": [],
   "source": [
    "#null hypo: p head = p\n",
    "#alternative hypo: p head > p"
   ]
  },
  {
   "cell_type": "code",
   "execution_count": 9,
   "metadata": {},
   "outputs": [
    {
     "data": {
      "text/plain": [
       "5.349273094732516"
      ]
     },
     "execution_count": 9,
     "metadata": {},
     "output_type": "execute_result"
    }
   ],
   "source": [
    "#Calculate z-score = 5.349273094732516\n",
    "\n",
    "n = booking_B.shape[0]\n",
    "\n",
    "numerator = p_head-p\n",
    "denominator = math.sqrt((p*(1-p))/n)\n",
    "\n",
    "numerator / denominator"
   ]
  },
  {
   "cell_type": "code",
   "execution_count": 10,
   "metadata": {},
   "outputs": [
    {
     "data": {
      "text/plain": [
       "1.6448536269514722"
      ]
     },
     "execution_count": 10,
     "metadata": {},
     "output_type": "execute_result"
    }
   ],
   "source": [
    "# calculate z critical value = 1.6448536269514722\n",
    "\n",
    "scipy.stats.norm.ppf(1-.05)\n",
    "\n",
    "\n",
    "#z-score > z critical value, reject null hypothesis.\n",
    "#There is enough evidence (alpha = 5%) to support the claim that B improves conversion rates."
   ]
  },
  {
   "cell_type": "markdown",
   "metadata": {},
   "source": [
    "## 2. Calculate the optimal sample size for a 95% confidence rate and test with 80% power. Conduct the test 10 times using samples of the optimal size. Report results."
   ]
  },
  {
   "cell_type": "code",
   "execution_count": 11,
   "metadata": {},
   "outputs": [],
   "source": [
    "#confidence rate = 95% --> probability of type I error: 5%\n",
    "#power = 80% --> probability of type II error: 20%"
   ]
  },
  {
   "cell_type": "code",
   "execution_count": 12,
   "metadata": {},
   "outputs": [
    {
     "name": "stdout",
     "output_type": "stream",
     "text": [
      "The optimal size should be: 2317\n"
     ]
    }
   ],
   "source": [
    "#delta: difference between the two means. We use 1%.\n",
    "\n",
    "p_bar = (p + p_head)/2\n",
    "\n",
    "#difference of conversion rate \n",
    "optimal_sample = (st.norm.ppf(0.95)*math.sqrt(2*p_bar*(1-p_bar)) + st.norm.ppf(0.8)*math.sqrt(p*(1-p)+p_head*(1-p_head)))**2 /((p_head-p)**2)\n",
    "optimal_sample = int(optimal_sample)\n",
    "\n",
    "print(\"The optimal size should be:\", optimal_sample)\n"
   ]
  },
  {
   "cell_type": "code",
   "execution_count": 13,
   "metadata": {},
   "outputs": [],
   "source": [
    "test1a = booking_A.sample(n = optimal_sample) \n",
    "test2a = booking_A.sample(n = optimal_sample) \n",
    "test3a = booking_A.sample(n = optimal_sample) \n",
    "test4a = booking_A.sample(n = optimal_sample)\n",
    "test5a = booking_A.sample(n = optimal_sample)\n",
    "test6a = booking_A.sample(n = optimal_sample)\n",
    "test7a = booking_A.sample(n = optimal_sample)\n",
    "test8a = booking_A.sample(n = optimal_sample)\n",
    "test9a = booking_A.sample(n = optimal_sample)\n",
    "test10a = booking_A.sample(n = optimal_sample)\n",
    "\n",
    "test1b = booking_B.sample(n = optimal_sample) \n",
    "test2b = booking_B.sample(n = optimal_sample) \n",
    "test3b = booking_B.sample(n = optimal_sample) \n",
    "test4b = booking_B.sample(n = optimal_sample)\n",
    "test5b = booking_B.sample(n = optimal_sample)\n",
    "test6b = booking_B.sample(n = optimal_sample)\n",
    "test7b = booking_B.sample(n = optimal_sample)\n",
    "test8b = booking_B.sample(n = optimal_sample)\n",
    "test9b = booking_B.sample(n = optimal_sample)\n",
    "test10b = booking_B.sample(n = optimal_sample)\n",
    "\n",
    "a_sample_list = [test1a, test2a, test3a, test4a, test5a, test6a, test7a, test8a, test9a, test10a]\n",
    "b_sample_list = [test1b, test2b, test3b, test4b, test5b, test6b, test7b, test8b, test9b, test10b]"
   ]
  },
  {
   "cell_type": "code",
   "execution_count": 14,
   "metadata": {},
   "outputs": [
    {
     "data": {
      "text/html": [
       "<div>\n",
       "<style scoped>\n",
       "    .dataframe tbody tr th:only-of-type {\n",
       "        vertical-align: middle;\n",
       "    }\n",
       "\n",
       "    .dataframe tbody tr th {\n",
       "        vertical-align: top;\n",
       "    }\n",
       "\n",
       "    .dataframe thead th {\n",
       "        text-align: right;\n",
       "    }\n",
       "</style>\n",
       "<table border=\"1\" class=\"dataframe\">\n",
       "  <thead>\n",
       "    <tr style=\"text-align: right;\">\n",
       "      <th></th>\n",
       "      <th>purchase_TF</th>\n",
       "      <th>Variant</th>\n",
       "      <th>date</th>\n",
       "      <th>id</th>\n",
       "    </tr>\n",
       "  </thead>\n",
       "  <tbody>\n",
       "    <tr>\n",
       "      <th>5373</th>\n",
       "      <td>False</td>\n",
       "      <td>A</td>\n",
       "      <td>2019-11-12</td>\n",
       "      <td>0x92afb1</td>\n",
       "    </tr>\n",
       "    <tr>\n",
       "      <th>12667</th>\n",
       "      <td>True</td>\n",
       "      <td>A</td>\n",
       "      <td>2020-07-17</td>\n",
       "      <td>0x4af155</td>\n",
       "    </tr>\n",
       "    <tr>\n",
       "      <th>111748</th>\n",
       "      <td>False</td>\n",
       "      <td>A</td>\n",
       "      <td>2019-11-17</td>\n",
       "      <td>0x821879</td>\n",
       "    </tr>\n",
       "    <tr>\n",
       "      <th>58344</th>\n",
       "      <td>False</td>\n",
       "      <td>A</td>\n",
       "      <td>2020-05-05</td>\n",
       "      <td>0x675e3b</td>\n",
       "    </tr>\n",
       "    <tr>\n",
       "      <th>50066</th>\n",
       "      <td>False</td>\n",
       "      <td>A</td>\n",
       "      <td>2019-09-20</td>\n",
       "      <td>0x8235c5</td>\n",
       "    </tr>\n",
       "    <tr>\n",
       "      <th>...</th>\n",
       "      <td>...</td>\n",
       "      <td>...</td>\n",
       "      <td>...</td>\n",
       "      <td>...</td>\n",
       "    </tr>\n",
       "    <tr>\n",
       "      <th>88828</th>\n",
       "      <td>False</td>\n",
       "      <td>A</td>\n",
       "      <td>2020-03-01</td>\n",
       "      <td>0x112907</td>\n",
       "    </tr>\n",
       "    <tr>\n",
       "      <th>107187</th>\n",
       "      <td>False</td>\n",
       "      <td>A</td>\n",
       "      <td>2019-11-26</td>\n",
       "      <td>0x56a24d</td>\n",
       "    </tr>\n",
       "    <tr>\n",
       "      <th>73723</th>\n",
       "      <td>False</td>\n",
       "      <td>A</td>\n",
       "      <td>2019-12-03</td>\n",
       "      <td>0x53a5ae</td>\n",
       "    </tr>\n",
       "    <tr>\n",
       "      <th>91310</th>\n",
       "      <td>False</td>\n",
       "      <td>A</td>\n",
       "      <td>2020-06-19</td>\n",
       "      <td>0x3c4442</td>\n",
       "    </tr>\n",
       "    <tr>\n",
       "      <th>11925</th>\n",
       "      <td>False</td>\n",
       "      <td>A</td>\n",
       "      <td>2020-07-30</td>\n",
       "      <td>0x1a937e</td>\n",
       "    </tr>\n",
       "  </tbody>\n",
       "</table>\n",
       "<p>2317 rows × 4 columns</p>\n",
       "</div>"
      ],
      "text/plain": [
       "        purchase_TF Variant        date        id\n",
       "5373          False       A  2019-11-12  0x92afb1\n",
       "12667          True       A  2020-07-17  0x4af155\n",
       "111748        False       A  2019-11-17  0x821879\n",
       "58344         False       A  2020-05-05  0x675e3b\n",
       "50066         False       A  2019-09-20  0x8235c5\n",
       "...             ...     ...         ...       ...\n",
       "88828         False       A  2020-03-01  0x112907\n",
       "107187        False       A  2019-11-26  0x56a24d\n",
       "73723         False       A  2019-12-03  0x53a5ae\n",
       "91310         False       A  2020-06-19  0x3c4442\n",
       "11925         False       A  2020-07-30  0x1a937e\n",
       "\n",
       "[2317 rows x 4 columns]"
      ]
     },
     "execution_count": 14,
     "metadata": {},
     "output_type": "execute_result"
    }
   ],
   "source": [
    "a_sample_list[5]"
   ]
  },
  {
   "cell_type": "code",
   "execution_count": 15,
   "metadata": {},
   "outputs": [],
   "source": [
    "a_mean_list = []\n",
    "b_mean_list = []\n",
    "\n",
    "for i in a_sample_list:\n",
    "    a_mean_list.append(float(np.mean(i[\"purchase_TF\"])))\n",
    "    \n",
    "for i in b_sample_list:\n",
    "    b_mean_list.append(float(np.mean(i[\"purchase_TF\"])))\n",
    "\n",
    "mean_diff_list = []\n",
    "for i in range(10):\n",
    "    mean_diff_list.append(b_mean_list[i] - a_mean_list[i])"
   ]
  },
  {
   "cell_type": "code",
   "execution_count": 16,
   "metadata": {},
   "outputs": [
    {
     "data": {
      "text/plain": [
       "[0.028053517479499357,\n",
       " 0.03754855416486835,\n",
       " 0.014674147604661208,\n",
       " 0.031074665515753108,\n",
       " 0.04229607250755288,\n",
       " 0.027190332326283984,\n",
       " 0.015537332757876582,\n",
       " 0.02028485110056108,\n",
       " 0.020716443677168767,\n",
       " 0.027190332326283984]"
      ]
     },
     "execution_count": 16,
     "metadata": {},
     "output_type": "execute_result"
    }
   ],
   "source": [
    "mean_diff_list"
   ]
  },
  {
   "cell_type": "code",
   "execution_count": 17,
   "metadata": {},
   "outputs": [],
   "source": [
    "sigma_list = []\n",
    "\n",
    "for i in range(10):\n",
    "    p = a_mean_list[i]\n",
    "    sigma_list.append(math.sqrt((p*(1-p))/n))"
   ]
  },
  {
   "cell_type": "code",
   "execution_count": 18,
   "metadata": {
    "scrolled": false
   },
   "outputs": [
    {
     "data": {
      "text/plain": [
       "[0.004998065655210986,\n",
       " 0.004885643217796243,\n",
       " 0.005099795482042161,\n",
       " 0.004973512257647554,\n",
       " 0.004866412523490043,\n",
       " 0.004973512257647554,\n",
       " 0.005208698394554371,\n",
       " 0.005111492117047358,\n",
       " 0.00507030726816859,\n",
       " 0.0050939261226853804]"
      ]
     },
     "execution_count": 18,
     "metadata": {},
     "output_type": "execute_result"
    }
   ],
   "source": [
    "sigma_list"
   ]
  },
  {
   "cell_type": "code",
   "execution_count": 19,
   "metadata": {},
   "outputs": [],
   "source": [
    "z_score_list = []\n",
    "for i in range(10):\n",
    "    z_score_list.append(mean_diff_list[i]/sigma_list[i])"
   ]
  },
  {
   "cell_type": "code",
   "execution_count": 20,
   "metadata": {},
   "outputs": [
    {
     "data": {
      "text/plain": [
       "[5.61287494297934,\n",
       " 7.685488377066817,\n",
       " 2.8773992322502107,\n",
       " 6.248032357409182,\n",
       " 8.691427679710849,\n",
       " 5.467028312733037,\n",
       " 2.982958808695982,\n",
       " 3.968479386461145,\n",
       " 4.0858359427695214,\n",
       " 5.3377947915644235]"
      ]
     },
     "execution_count": 20,
     "metadata": {},
     "output_type": "execute_result"
    }
   ],
   "source": [
    "z_score_list"
   ]
  },
  {
   "cell_type": "code",
   "execution_count": 21,
   "metadata": {},
   "outputs": [],
   "source": [
    "significance_list = []\n",
    "for i in z_score_list:\n",
    "    if i > scipy.stats.norm.ppf(1-.05):\n",
    "        significance_list.append(True)\n",
    "    else:\n",
    "        significance_list.append(False)"
   ]
  },
  {
   "cell_type": "code",
   "execution_count": 22,
   "metadata": {},
   "outputs": [
    {
     "data": {
      "text/plain": [
       "[True, True, True, True, True, True, True, True, True, True]"
      ]
     },
     "execution_count": 22,
     "metadata": {},
     "output_type": "execute_result"
    }
   ],
   "source": [
    "significance_list"
   ]
  },
  {
   "cell_type": "code",
   "execution_count": 23,
   "metadata": {},
   "outputs": [
    {
     "name": "stdout",
     "output_type": "stream",
     "text": [
      "WOW!!significant improvement!\n",
      "WOW!!significant improvement!\n",
      "WOW!!significant improvement!\n",
      "WOW!!significant improvement!\n",
      "WOW!!significant improvement!\n",
      "WOW!!significant improvement!\n",
      "WOW!!significant improvement!\n",
      "WOW!!significant improvement!\n",
      "WOW!!significant improvement!\n",
      "WOW!!significant improvement!\n"
     ]
    }
   ],
   "source": [
    "for i in significance_list:\n",
    "    if i == True:\n",
    "        print('WOW!!significant improvement!')\n",
    "    else:\n",
    "        print('oops')"
   ]
  },
  {
   "cell_type": "markdown",
   "metadata": {},
   "source": [
    "## 3. Conduct a sequential test for the 10 samples. For any of the samples, were you able to stop the test prior to using the full sample? What was the average number of iterations required to stop the test?"
   ]
  },
  {
   "cell_type": "code",
   "execution_count": 24,
   "metadata": {},
   "outputs": [
    {
     "name": "stdout",
     "output_type": "stream",
     "text": [
      "0\n",
      "1\n",
      "2\n",
      "3\n",
      "4\n",
      "5\n",
      "6\n",
      "7\n",
      "8\n",
      "9\n"
     ]
    }
   ],
   "source": [
    "upper_bound = np.log(1/(1-0.95))\n",
    "lower_bound = np.log(1-0.8)\n",
    "rounds_ran = []\n",
    "reason = []\n",
    "\n",
    "for i in range(10):\n",
    "    print(i)\n",
    "    log_gamma = 0\n",
    "    rounds = 0\n",
    "    \n",
    "    while (log_gamma > lower_bound) & (log_gamma < upper_bound):\n",
    "        if rounds < optimal_sample:\n",
    "            if b_sample_list[i]['purchase_TF'].values[rounds]:\n",
    "                log_gamma = log_gamma + math.log(p_head / p)\n",
    "            else:\n",
    "                log_gamma = log_gamma + math.log((1-p_head) / (1-p))\n",
    "            rounds += 1\n",
    "        else:\n",
    "            reason.append('Did not stop early')\n",
    "            break\n",
    "\n",
    "    rounds_ran.append(rounds)\n",
    "    if log_gamma < lower_bound:\n",
    "        reason.append('Lower bound')\n",
    "    elif log_gamma > upper_bound:\n",
    "        reason.append('Higher bound')"
   ]
  },
  {
   "cell_type": "code",
   "execution_count": 25,
   "metadata": {},
   "outputs": [
    {
     "data": {
      "text/plain": [
       "[389, 633, 2317, 710, 1348, 374, 1354, 745, 1749, 642]"
      ]
     },
     "execution_count": 25,
     "metadata": {},
     "output_type": "execute_result"
    }
   ],
   "source": [
    "rounds_ran"
   ]
  },
  {
   "cell_type": "code",
   "execution_count": 26,
   "metadata": {},
   "outputs": [
    {
     "data": {
      "text/plain": [
       "['Higher bound',\n",
       " 'Higher bound',\n",
       " 'Did not stop early',\n",
       " 'Higher bound',\n",
       " 'Higher bound',\n",
       " 'Lower bound',\n",
       " 'Higher bound',\n",
       " 'Higher bound',\n",
       " 'Higher bound',\n",
       " 'Higher bound']"
      ]
     },
     "execution_count": 26,
     "metadata": {},
     "output_type": "execute_result"
    }
   ],
   "source": [
    "reason"
   ]
  },
  {
   "cell_type": "code",
   "execution_count": 27,
   "metadata": {},
   "outputs": [
    {
     "data": {
      "text/plain": [
       "1026.1"
      ]
     },
     "execution_count": 27,
     "metadata": {},
     "output_type": "execute_result"
    }
   ],
   "source": [
    "from statistics import mean\n",
    "mean(rounds_ran)"
   ]
  },
  {
   "cell_type": "code",
   "execution_count": 38,
   "metadata": {},
   "outputs": [
    {
     "data": {
      "text/plain": [
       "749.9285714285714"
      ]
     },
     "execution_count": 38,
     "metadata": {},
     "output_type": "execute_result"
    }
   ],
   "source": [
    "#(mean(rounds_ran[0:2])+mean(rounds_ran[3:]))/2"
   ]
  },
  {
   "cell_type": "code",
   "execution_count": 28,
   "metadata": {},
   "outputs": [],
   "source": [
    "#We're able to stop the test 9 out of 10 times, with an average of stopping at ~1026 rounds/iterations.\n",
    "#Or if not including the one time not stopping early and going to 2317 rounds, then an average of 750 rounds/iterations\n",
    "\n",
    "#Note, that this varies greatly when rerunning with different seeds/randomizations.\n",
    "#This run is a pretty balanced one in terms of having just one non-stopping eraly,\n",
    "#and one lower bound as well as 7 upper bound reasons for stopping"
   ]
  }
 ],
 "metadata": {
  "kernelspec": {
   "display_name": "Python 3",
   "language": "python",
   "name": "python3"
  },
  "language_info": {
   "codemirror_mode": {
    "name": "ipython",
    "version": 3
   },
   "file_extension": ".py",
   "mimetype": "text/x-python",
   "name": "python",
   "nbconvert_exporter": "python",
   "pygments_lexer": "ipython3",
   "version": "3.7.6"
  }
 },
 "nbformat": 4,
 "nbformat_minor": 4
}
